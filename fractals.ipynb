{
 "cells": [
  {
   "cell_type": "markdown",
   "metadata": {},
   "source": [
    "# Fractal exploration with Plotly"
   ]
  },
  {
   "cell_type": "code",
   "execution_count": 1,
   "metadata": {},
   "outputs": [],
   "source": [
    "%%capture\n",
    "from tqdm import notebook as tqdm\n",
    "tqdm.tqdm()\n",
    "\n",
    "import time\n",
    "import datetime\n",
    "\n",
    "import ipywidgets as widgets\n",
    "from ipywidgets import interact, interactive, fixed, interact_manual\n",
    "\n",
    "import plotly.express as px\n",
    "import plotly.graph_objects as go\n",
    "\n",
    "import numpy\n",
    "import pandas as pd\n",
    "import math\n",
    "\n",
    "import PIL.Image\n",
    "import imageio"
   ]
  },
  {
   "cell_type": "markdown",
   "metadata": {},
   "source": [
    "# Burning Ship and  Mandelbrot Skews"
   ]
  },
  {
   "cell_type": "code",
   "execution_count": 2,
   "metadata": {},
   "outputs": [],
   "source": [
    "def BuringShip(x,y,power,shift, Yrange,Xrange): \n",
    "    zy = y * (Yrange[1] - Yrange[0]) / (imagesize - 1)  + Yrange[0]\n",
    "    zx = x * (Xrange[1] - Xrange[0]) / (imagesize - 1)  + Xrange[0] \n",
    "    z = zx + zy * 1j\n",
    "    c = z \n",
    "    for i in range(max_it):\n",
    "        if abs(z) > 2.0:\n",
    "            return exterior(z,i)\n",
    "\n",
    "        z = (abs(z.real) + abs(z.imag)* 1j) ** power + c +shift\n",
    "    return interior(z,i)\n",
    "\n",
    "\n",
    "def MandelbrotSkew(px,py,power,shift, Yrange,Xrange): \n",
    "    zy = (py * (Yrange[1] - Yrange[0]) / (imagesize))  + Yrange[0]\n",
    "    zx = (px * (Xrange[1] - Xrange[0]) / (imagesize))  + Xrange[0]\n",
    "    z = zx + zy * 1j\n",
    "    c = z\n",
    "    for i in range(max_it):\n",
    "        if abs(z) > 2.0:\n",
    "            return exterior(z,i)\n",
    "\n",
    "        z = z ** power + c +shift\n",
    "\n",
    "    return interior(z,i)\n",
    "\n",
    "def Newton(px,py,power,shift, Yrange,Xrange): \n",
    "    zy = (py * (Yrange[1] - Yrange[0]) / (imagesize))  + Yrange[0]\n",
    "    zx = (px * (Xrange[1] - Xrange[0]) / (imagesize))  + Xrange[0]\n",
    "    z = zx + zy * 1j\n",
    "    c = z\n",
    "    for i in range(max_it):\n",
    "        if abs(z) > 2.0:\n",
    "            return exterior(z,i)\n",
    "        try:\n",
    "            z = z - (z*z*z-c)/(3*z*z)\n",
    "        except:\n",
    "            z=z\n",
    "    return interior(z,i)\n",
    "\n",
    "\n",
    "def Nova(px,py,power,shift, Yrange,Xrange): \n",
    "    zy = (py * (Yrange[1] - Yrange[0]) / (imagesize))  + Yrange[0]\n",
    "    zx = (px * (Xrange[1] - Xrange[0]) / (imagesize))  + Xrange[0]\n",
    "    z = zx + zy * 1j\n",
    "    c = z\n",
    "    for i in range(max_it):\n",
    "        if abs(z) > 2.0:\n",
    "            return exterior(z,i)\n",
    "        try:\n",
    "            z = z - (z-1)**3 / (3*z*z) +c\n",
    "        except:\n",
    "            z=z\n",
    "    return interior(z,i)\n",
    "\n",
    "def Magnet(px,py,power,shift, Yrange,Xrange): \n",
    "    zy = (py * (Yrange[1] - Yrange[0]) / (imagesize))  + Yrange[0]\n",
    "    zx = (px * (Xrange[1] - Xrange[0]) / (imagesize))  + Xrange[0]\n",
    "    z = zx + zy * 1j\n",
    "    c = z\n",
    "    for i in range(max_it):\n",
    "        if abs(z) > 2.0:\n",
    "            return exterior(z,i)\n",
    "        try:\n",
    "            z =  ((z*z +c -1) / (2*z + c - 2))**(0.5)\n",
    "        except:\n",
    "            z=z\n",
    "    return interior(z,i)\n",
    "\n",
    "\n",
    "fractals = [BuringShip, MandelbrotSkew, Newton, Nova, Magnet]\n",
    "\n",
    "\n",
    "def interior(z,i): \n",
    "    return i\n",
    "    \n",
    "def exterior(z,i):\n",
    "    return i\n",
    "\n",
    "def iteration_count(z,i):\n",
    "    return i\n",
    "\n",
    "def orbit_distance(z,i):\n",
    "    return abs(z)\n",
    "\n",
    "def orbit_distance100x(z,i):\n",
    "    return abs(z)*100\n",
    "\n",
    "def orbit_distance_log(z,i):\n",
    "    try:\n",
    "        return math.log(abs(z))\n",
    "    except:\n",
    "         return math.log(abs(z)+1)\n",
    "\n",
    "def orbit_distance_sinh(z,i):\n",
    "    try:\n",
    "        return math.sinh(abs(z))\n",
    "    except:\n",
    "        return math.sinh(abs(z)+1)\n",
    "        \n",
    "maps = [iteration_count, orbit_distance, orbit_distance100x, orbit_distance_log, orbit_distance_sinh ]"
   ]
  },
  {
   "cell_type": "code",
   "execution_count": 3,
   "metadata": {},
   "outputs": [
    {
     "data": {
      "application/vnd.jupyter.widget-view+json": {
       "model_id": "c5cf0713b93344dbb9bc9f229e3843a3",
       "version_major": 2,
       "version_minor": 0
      },
      "text/plain": [
       "interactive(children=(Dropdown(description='fractal', options=(<function BuringShip at 0x0000019D8B4C76A8>, <f…"
      ]
     },
     "metadata": {},
     "output_type": "display_data"
    },
    {
     "data": {
      "application/vnd.jupyter.widget-view+json": {
       "model_id": "d9ccaef8823945da9c74eccc8c6793f1",
       "version_major": 2,
       "version_minor": 0
      },
      "text/plain": [
       "interactive(children=(FloatSlider(value=2.0, description='Power', max=6.0, min=-2.0), Output()), _dom_classes=…"
      ]
     },
     "metadata": {},
     "output_type": "display_data"
    },
    {
     "data": {
      "application/vnd.jupyter.widget-view+json": {
       "model_id": "fe0ed92f2ec447688bf5639d3b6072de",
       "version_major": 2,
       "version_minor": 0
      },
      "text/plain": [
       "interactive(children=(FloatSlider(value=0.0, description='Shift', max=1.0), Output()), _dom_classes=('widget-i…"
      ]
     },
     "metadata": {},
     "output_type": "display_data"
    },
    {
     "data": {
      "application/vnd.jupyter.widget-view+json": {
       "model_id": "9e98d12a4e6f49459a43bb2068c47b10",
       "version_major": 2,
       "version_minor": 0
      },
      "text/plain": [
       "interactive(children=(Dropdown(description='Interior', options=(<function iteration_count at 0x0000019D8B4CF51…"
      ]
     },
     "metadata": {},
     "output_type": "display_data"
    },
    {
     "data": {
      "application/vnd.jupyter.widget-view+json": {
       "model_id": "f755829b5aef48779eec46b173e48513",
       "version_major": 2,
       "version_minor": 0
      },
      "text/plain": [
       "interactive(children=(Dropdown(description='Exterior', options=(<function iteration_count at 0x0000019D8B4CF51…"
      ]
     },
     "metadata": {},
     "output_type": "display_data"
    }
   ],
   "source": [
    "def browse_fractals(fractals):\n",
    "    def fractalpick(fractal):\n",
    "\n",
    "        global Frac\n",
    "        Frac = fractal\n",
    "        return print(fractal.__name__)\n",
    "    fractal =  interact(fractalpick, fractal=fractals)\n",
    "\n",
    "# pick fractal    \n",
    "browse_fractals(fractals)\n",
    "\n",
    "\n",
    "def powerset(Power):\n",
    "    global power\n",
    "    power=Power\n",
    "    return\n",
    "    \n",
    "def shiftset(Shift):\n",
    "    global shift\n",
    "    shift=Shift\n",
    "    return\n",
    "\n",
    "def exteriorset(Exterior):\n",
    "    global exterior\n",
    "    exterior=Exterior\n",
    "\n",
    "def interiorset(Interior):\n",
    "    global interior\n",
    "    interior=Interior\n",
    "    \n",
    "    \n",
    "# pick fractal parameters \n",
    "interact(powerset, Power=2.0, description=\"Power\");\n",
    "interact(shiftset, Shift=0.0, description=\"shift\");\n",
    "\n",
    "interact(interiorset, Interior=maps);\n",
    "interact(exteriorset, Exterior=maps);"
   ]
  },
  {
   "cell_type": "markdown",
   "metadata": {},
   "source": [
    "# Display"
   ]
  },
  {
   "cell_type": "code",
   "execution_count": 4,
   "metadata": {},
   "outputs": [
    {
     "data": {
      "application/vnd.jupyter.widget-view+json": {
       "model_id": "5b27742ce0a7433fb60a5de95b90a387",
       "version_major": 2,
       "version_minor": 0
      },
      "text/plain": [
       "HBox(children=(FloatProgress(value=0.0, max=1080.0), HTML(value='')))"
      ]
     },
     "metadata": {},
     "output_type": "display_data"
    },
    {
     "name": "stdout",
     "output_type": "stream",
     "text": [
      "\n"
     ]
    },
    {
     "data": {
      "application/vnd.jupyter.widget-view+json": {
       "model_id": "1602961f339446a78843141db68fd0a9",
       "version_major": 2,
       "version_minor": 0
      },
      "text/plain": [
       "FigureWidget({\n",
       "    'data': [{'colorscale': [[0.0, '#000000'], [0.0625, '#001f4d'], [0.125,\n",
       "                   …"
      ]
     },
     "metadata": {},
     "output_type": "display_data"
    }
   ],
   "source": [
    "# get zoom from last plot or start at ((-1,-2), (1,2)) if figure doesn't exist\n",
    "if \"figzoom\" in globals():\n",
    "    Xrange=figzoom.layout.xaxis.range \n",
    "    Yrange=figzoom.layout.yaxis.range \n",
    "    \n",
    "else:\n",
    "    Xrange = (-1.0, 1.0)\n",
    "    Yrange = (-2, 2.0)\n",
    "    \n",
    "# set the size of the array/image and interation depth\n",
    "imagesize = 1080\n",
    "max_it =256\n",
    "array = numpy.zeros(shape=(imagesize,imagesize)) \n",
    "\n",
    "\n",
    "for i in tqdm.tqdm(range(imagesize)):\n",
    "    for j in range(imagesize):\n",
    "        array[i,j] = Frac(i, j, power, shift ,Xrange ,Yrange) \n",
    "\n",
    "figzoom = go.FigureWidget(data = \n",
    "                go.Heatmap(\n",
    "                    z=array, \n",
    "                    zsmooth='best',\n",
    "                    showscale=False,\n",
    "                    colorscale='icefire',\n",
    "                    x0=Xrange[0], dx=(Xrange[1] - Xrange[0]) / (imagesize),\n",
    "                    y0=Yrange[0], dy=(Yrange[1] - Yrange[0]) / (imagesize),\n",
    "                ),\n",
    "                      layout =\n",
    "                go.Layout( autosize=False, width=1080, height=1080, \n",
    "                    yaxis={'visible': False, 'showticklabels': False},\n",
    "                    xaxis={'visible': False, 'showticklabels': False},\n",
    "                    margin=dict(l=0, r=0, b=0,t=0,pad=1))\n",
    "               )\n",
    "figzoom\n"
   ]
  },
  {
   "cell_type": "code",
   "execution_count": null,
   "metadata": {},
   "outputs": [],
   "source": [
    "1000/1000 [00:09<00:00, 104.48it/s]\n",
    "1000/1000 [00:08<00:00, 115.97it/s]\n",
    "1080/1080 [00:20<00:00, 52.03it/s]\n",
    "2000/2000 [00:35<00:00, 56.73it/s]\n",
    "4000/4000 [02:20<00:00, 28.42it/s]"
   ]
  },
  {
   "cell_type": "code",
   "execution_count": 33,
   "metadata": {},
   "outputs": [],
   "source": [
    "#reset zoom\n",
    "del figzoom"
   ]
  },
  {
   "cell_type": "markdown",
   "metadata": {},
   "source": [
    "# Histogram of pixel values"
   ]
  },
  {
   "cell_type": "code",
   "execution_count": 28,
   "metadata": {},
   "outputs": [
    {
     "data": {
      "application/vnd.jupyter.widget-view+json": {
       "model_id": "bc0c9e4543544beb982dfcefa7503073",
       "version_major": 2,
       "version_minor": 0
      },
      "text/plain": [
       "interactive(children=(IntSlider(value=127, description='lower', max=255), IntSlider(value=0, description='lowe…"
      ]
     },
     "metadata": {},
     "output_type": "display_data"
    }
   ],
   "source": [
    "def pixelsample(numpyarray):\n",
    "    flatarray = numpyarray.flatten()\n",
    "    sample = numpy.random.choice(flatarray, size=1000)\n",
    "    return sample\n",
    "\n",
    "@interact\n",
    "def transform(lower=(0,255,1),\n",
    "              lower_shift=0,\n",
    "              lower_scale=1,\n",
    "              lower_power=1,\n",
    "              higher=255,\n",
    "              higher_shift=0,\n",
    "              higher_scale=(-1,1,0.01),\n",
    "              higher_power=1):\n",
    "    global array2\n",
    "    array2=array.copy()\n",
    "    \n",
    "    array2[array2 < lower] = (array2[array2 < lower]+ lower_shift )*lower_scale**lower_power\n",
    "\n",
    "    array2[array2 > higher] = (array2[array2 > higher]+ higher_shift )*higher_scale**higher_power\n",
    "    \n",
    "    fig = go.Figure(data=go.Violin(x=pixelsample(array), name=\"raw\",side='positive',orientation='h'))\n",
    "    fig.add_trace(go.Violin(x=pixelsample(array2), name=\"transformed\",side='positive',orientation='h'))\n",
    "    \n",
    "    \n",
    "    return fig.show()"
   ]
  },
  {
   "cell_type": "code",
   "execution_count": 49,
   "metadata": {},
   "outputs": [
    {
     "data": {
      "application/vnd.jupyter.widget-view+json": {
       "model_id": "aeb32628a3bb45dd81eab7327930689b",
       "version_major": 2,
       "version_minor": 0
      },
      "text/plain": [
       "FigureWidget({\n",
       "    'data': [{'colorscale': [[0.0, '#000000'], [0.0625, '#001f4d'], [0.125,\n",
       "                   …"
      ]
     },
     "metadata": {},
     "output_type": "display_data"
    }
   ],
   "source": [
    "figshift = go.FigureWidget(data = \n",
    "                go.Heatmap(\n",
    "                    z=array2, \n",
    "                    zsmooth='best',\n",
    "                    showscale=False,\n",
    "                    colorscale='icefire',\n",
    "                    x0=Xrange[0], dx=(Xrange[1] - Xrange[0]) / (imagesize),\n",
    "                    y0=Yrange[0], dy=(Yrange[1] - Yrange[0]) / (imagesize),\n",
    "                ),\n",
    "                      layout =\n",
    "                go.Layout( autosize=False, width=1080, height=1080, \n",
    "                    yaxis={'visible': False, 'showticklabels': False},\n",
    "                    xaxis={'visible': False, 'showticklabels': False},\n",
    "                    margin=dict(l=0, r=0, b=0,t=0,pad=1))\n",
    "               )\n",
    "figshift\n",
    "\n",
    "\n"
   ]
  },
  {
   "cell_type": "code",
   "execution_count": 31,
   "metadata": {},
   "outputs": [],
   "source": [
    "now = str(datetime.datetime.now().strftime(\"%Y%m%d-%H%M%S\"))\n",
    "figshift.write_image(name_image(figzoom)+ now +\".jpeg\")"
   ]
  },
  {
   "cell_type": "markdown",
   "metadata": {},
   "source": [
    "## Export as html"
   ]
  },
  {
   "cell_type": "code",
   "execution_count": 7,
   "metadata": {},
   "outputs": [],
   "source": [
    "figzoom.write_html(\"burningship.html\")"
   ]
  },
  {
   "cell_type": "markdown",
   "metadata": {},
   "source": [
    "## Save as image"
   ]
  },
  {
   "cell_type": "code",
   "execution_count": 14,
   "metadata": {},
   "outputs": [],
   "source": [
    "# image naming function\n",
    "def name_image(fig):\n",
    "\n",
    "    namestring = Frac.__name__\n",
    "    namestring += \"^\" +str(power)\n",
    "    namestring += \"+\" +str(shift)\n",
    "\n",
    "    xmin,xmax =figzoom.layout.xaxis.range\n",
    "    ymin,ymax =figzoom.layout.yaxis.range\n",
    "    namestring +=\"({:.4f},{:.4f}),({:.4f},{:.4f})\".format(xmin,xmax,ymin,ymax)\n",
    "    namestring += exterior.__name__\n",
    "    namestring += interior.__name__\n",
    "    \n",
    "    return namestring"
   ]
  },
  {
   "cell_type": "code",
   "execution_count": 10,
   "metadata": {},
   "outputs": [],
   "source": [
    "now = str(datetime.datetime.now().strftime(\"%Y%m%d-%H%M%S\"))\n",
    "figzoom.write_image(name_image(figzoom)+ now +\".jpeg\")"
   ]
  },
  {
   "cell_type": "markdown",
   "metadata": {},
   "source": [
    "## Save as high res image"
   ]
  },
  {
   "cell_type": "code",
   "execution_count": 21,
   "metadata": {},
   "outputs": [
    {
     "data": {
      "application/vnd.jupyter.widget-view+json": {
       "model_id": "82d1526b6774456e82ac6156be4038cc",
       "version_major": 2,
       "version_minor": 0
      },
      "text/plain": [
       "HBox(children=(FloatProgress(value=0.0, max=2160.0), HTML(value='')))"
      ]
     },
     "metadata": {},
     "output_type": "display_data"
    },
    {
     "name": "stdout",
     "output_type": "stream",
     "text": [
      "\n"
     ]
    }
   ],
   "source": [
    "#Hi rez image\n",
    "Xrange=figzoom.layout.xaxis.range \n",
    "Yrange=figzoom.layout.yaxis.range\n",
    "# set the size of the array/image and interation depth\n",
    "imagesize = 2160\n",
    "max_it =256\n",
    "array = numpy.zeros(shape=(imagesize,imagesize)) \n",
    "\n",
    "for i in tqdm.tqdm(range(imagesize)):\n",
    "    for j in range(imagesize):\n",
    "        array[i,j] = Frac(i, j, power, shift, Xrange, Yrange)\n",
    "\n",
    "Hires = go.FigureWidget(data = \n",
    "                go.Heatmap(\n",
    "                    z=array, \n",
    "                    zsmooth='best',\n",
    "                    showscale=False,\n",
    "                    colorscale='icefire',\n",
    "                    x0=Xrange[0], dx=(Xrange[1] - Xrange[0]) / (imagesize),\n",
    "                    y0=Yrange[0], dy=(Yrange[1] - Yrange[0]) / (imagesize),\n",
    "                ),\n",
    "                      layout =\n",
    "                go.Layout( autosize=False, width= 2160, height= 2160, \n",
    "                    yaxis={'visible': False, 'showticklabels': False},\n",
    "                    xaxis={'visible': False, 'showticklabels': False},\n",
    "                    margin=dict(l=0, r=0, b=0,t=0,pad=1))\n",
    "               )\n",
    "\n",
    "\n",
    "now = str(datetime.datetime.now().strftime(\"%Y%m%d-%H%M%S\"))\n",
    "Hires.write_image(name_image(Hires) + now + \".jpeg\")\n",
    "\n",
    "del Hires"
   ]
  },
  {
   "cell_type": "markdown",
   "metadata": {},
   "source": [
    "# Zoom in "
   ]
  },
  {
   "cell_type": "code",
   "execution_count": 7,
   "metadata": {},
   "outputs": [],
   "source": [
    "def fractal(imagesize,xrange, yrange):\n",
    "    max_it =256\n",
    "    array = numpy.zeros(shape=(imagesize,imagesize)) \n",
    "\n",
    "\n",
    "    for i in tqdm.tqdm(range(imagesize)):\n",
    "        for j in range(imagesize):\n",
    "            array[i,j] = Frac(i, j, power, shift ,xrange ,yrange) \n",
    "\n",
    "    fractalfig = go.FigureWidget(data = \n",
    "                go.Heatmap(\n",
    "                    z=array, \n",
    "                    zsmooth='best',\n",
    "                    showscale=False,\n",
    "                    colorscale='icefire',\n",
    "                    x0=xrange[0], dx=(xrange[1] - xrange[0]) / (imagesize),\n",
    "                    y0=yrange[0], dy=(yrange[1] - yrange[0]) / (imagesize),\n",
    "                ),\n",
    "                      layout =\n",
    "                go.Layout( autosize=False, width=imagesize, height=imagesize, \n",
    "                    yaxis={'visible': False, 'showticklabels': False},\n",
    "                    xaxis={'visible': False, 'showticklabels': False},\n",
    "                    margin=dict(l=0, r=0, b=0,t=0,pad=1))\n",
    "               )\n",
    "    \n",
    "    \n",
    "    \n",
    "    return fractalfig.to_image(\"png\")\n",
    "\n",
    "render_path = \"D:/Users/ben/Dropbox/aiart/vidout/\"\n",
    "\n",
    "\n",
    "def zoom(imagesize, startx, starty, endx, endy, steps):\n",
    "    now = str(datetime.datetime.now().strftime(\"%Y%m%d-%H%M%S\"))\n",
    "    writer = imageio.get_writer(render_path+'vidout' + now + '.mp4', fps=10)\n",
    "    ## interpolation\n",
    "    \n",
    "    xranges = numpy.linspace(startx[0], endx[0], steps),  numpy.geomspace(startx[1], endx[1], steps)\n",
    "    yranges = numpy.linspace(starty[0], endy[0], steps),  numpy.geomspace(starty[1], endy[1], steps)\n",
    "    \n",
    "    for step in tqdm.tqdm(range(steps)):\n",
    "        \n",
    "        image = fractal(imagesize,(xranges[0][step],xranges[1][step]),(yranges[0][step],yranges[1][step]))\n",
    "        writer.append_data(imageio.imread(image))\n",
    "\n",
    "    writer.close()\n",
    "\n",
    "    print(render_path+'vidout' + now + '.mp4')"
   ]
  },
  {
   "cell_type": "code",
   "execution_count": 8,
   "metadata": {},
   "outputs": [
    {
     "name": "stderr",
     "output_type": "stream",
     "text": [
      "D:\\Users\\ben__\\Anaconda3\\envs\\tensorflow-gpu-2.0\\lib\\site-packages\\numpy\\core\\function_base.py:410: RuntimeWarning:\n",
      "\n",
      "invalid value encountered in log10\n",
      "\n"
     ]
    },
    {
     "data": {
      "application/vnd.jupyter.widget-view+json": {
       "model_id": "8d5f52f89e3246ea90011747deea2d79",
       "version_major": 2,
       "version_minor": 0
      },
      "text/plain": [
       "HBox(children=(FloatProgress(value=0.0, max=30.0), HTML(value='')))"
      ]
     },
     "metadata": {},
     "output_type": "display_data"
    },
    {
     "data": {
      "application/vnd.jupyter.widget-view+json": {
       "model_id": "d55d1da7147344848d427737d12f64c2",
       "version_major": 2,
       "version_minor": 0
      },
      "text/plain": [
       "HBox(children=(FloatProgress(value=0.0, max=512.0), HTML(value='')))"
      ]
     },
     "metadata": {},
     "output_type": "display_data"
    },
    {
     "name": "stdout",
     "output_type": "stream",
     "text": [
      "\n"
     ]
    },
    {
     "data": {
      "application/vnd.jupyter.widget-view+json": {
       "model_id": "3a706f1798b146ba89e273e2fe6e7db3",
       "version_major": 2,
       "version_minor": 0
      },
      "text/plain": [
       "HBox(children=(FloatProgress(value=0.0, max=512.0), HTML(value='')))"
      ]
     },
     "metadata": {},
     "output_type": "display_data"
    },
    {
     "name": "stdout",
     "output_type": "stream",
     "text": [
      "\n"
     ]
    },
    {
     "data": {
      "application/vnd.jupyter.widget-view+json": {
       "model_id": "84811db9dce84205a6f0c7e8a21d98dc",
       "version_major": 2,
       "version_minor": 0
      },
      "text/plain": [
       "HBox(children=(FloatProgress(value=0.0, max=512.0), HTML(value='')))"
      ]
     },
     "metadata": {},
     "output_type": "display_data"
    },
    {
     "name": "stdout",
     "output_type": "stream",
     "text": [
      "\n"
     ]
    },
    {
     "data": {
      "application/vnd.jupyter.widget-view+json": {
       "model_id": "36e920cad82f4a99be359e5b445dee9b",
       "version_major": 2,
       "version_minor": 0
      },
      "text/plain": [
       "HBox(children=(FloatProgress(value=0.0, max=512.0), HTML(value='')))"
      ]
     },
     "metadata": {},
     "output_type": "display_data"
    },
    {
     "name": "stdout",
     "output_type": "stream",
     "text": [
      "\n"
     ]
    },
    {
     "data": {
      "application/vnd.jupyter.widget-view+json": {
       "model_id": "4378c22be8204048bfccc1b1e95708a1",
       "version_major": 2,
       "version_minor": 0
      },
      "text/plain": [
       "HBox(children=(FloatProgress(value=0.0, max=512.0), HTML(value='')))"
      ]
     },
     "metadata": {},
     "output_type": "display_data"
    },
    {
     "name": "stdout",
     "output_type": "stream",
     "text": [
      "\n"
     ]
    },
    {
     "data": {
      "application/vnd.jupyter.widget-view+json": {
       "model_id": "835e5f01ba86452bb04455cfa662019e",
       "version_major": 2,
       "version_minor": 0
      },
      "text/plain": [
       "HBox(children=(FloatProgress(value=0.0, max=512.0), HTML(value='')))"
      ]
     },
     "metadata": {},
     "output_type": "display_data"
    },
    {
     "name": "stdout",
     "output_type": "stream",
     "text": [
      "\n"
     ]
    },
    {
     "data": {
      "application/vnd.jupyter.widget-view+json": {
       "model_id": "217e0e4466bd4fe1a298b633f1fe22ba",
       "version_major": 2,
       "version_minor": 0
      },
      "text/plain": [
       "HBox(children=(FloatProgress(value=0.0, max=512.0), HTML(value='')))"
      ]
     },
     "metadata": {},
     "output_type": "display_data"
    },
    {
     "name": "stdout",
     "output_type": "stream",
     "text": [
      "\n"
     ]
    },
    {
     "data": {
      "application/vnd.jupyter.widget-view+json": {
       "model_id": "24ca66cb0a0e43b6be289bb834209392",
       "version_major": 2,
       "version_minor": 0
      },
      "text/plain": [
       "HBox(children=(FloatProgress(value=0.0, max=512.0), HTML(value='')))"
      ]
     },
     "metadata": {},
     "output_type": "display_data"
    },
    {
     "name": "stdout",
     "output_type": "stream",
     "text": [
      "\n"
     ]
    },
    {
     "data": {
      "application/vnd.jupyter.widget-view+json": {
       "model_id": "8466c19a0a78452f97277519e8072121",
       "version_major": 2,
       "version_minor": 0
      },
      "text/plain": [
       "HBox(children=(FloatProgress(value=0.0, max=512.0), HTML(value='')))"
      ]
     },
     "metadata": {},
     "output_type": "display_data"
    },
    {
     "name": "stdout",
     "output_type": "stream",
     "text": [
      "\n"
     ]
    },
    {
     "data": {
      "application/vnd.jupyter.widget-view+json": {
       "model_id": "27e604bef1424db181b1a61a1924dcdd",
       "version_major": 2,
       "version_minor": 0
      },
      "text/plain": [
       "HBox(children=(FloatProgress(value=0.0, max=512.0), HTML(value='')))"
      ]
     },
     "metadata": {},
     "output_type": "display_data"
    },
    {
     "name": "stdout",
     "output_type": "stream",
     "text": [
      "\n"
     ]
    },
    {
     "data": {
      "application/vnd.jupyter.widget-view+json": {
       "model_id": "60dafce0593c475d8ef160973edce8d2",
       "version_major": 2,
       "version_minor": 0
      },
      "text/plain": [
       "HBox(children=(FloatProgress(value=0.0, max=512.0), HTML(value='')))"
      ]
     },
     "metadata": {},
     "output_type": "display_data"
    },
    {
     "name": "stdout",
     "output_type": "stream",
     "text": [
      "\n"
     ]
    },
    {
     "data": {
      "application/vnd.jupyter.widget-view+json": {
       "model_id": "19214ede933e47a98b2aa2e7af063be8",
       "version_major": 2,
       "version_minor": 0
      },
      "text/plain": [
       "HBox(children=(FloatProgress(value=0.0, max=512.0), HTML(value='')))"
      ]
     },
     "metadata": {},
     "output_type": "display_data"
    },
    {
     "name": "stdout",
     "output_type": "stream",
     "text": [
      "\n"
     ]
    },
    {
     "data": {
      "application/vnd.jupyter.widget-view+json": {
       "model_id": "1b13eccca2464d41b5edb4b000ef0f9e",
       "version_major": 2,
       "version_minor": 0
      },
      "text/plain": [
       "HBox(children=(FloatProgress(value=0.0, max=512.0), HTML(value='')))"
      ]
     },
     "metadata": {},
     "output_type": "display_data"
    },
    {
     "name": "stdout",
     "output_type": "stream",
     "text": [
      "\n"
     ]
    },
    {
     "data": {
      "application/vnd.jupyter.widget-view+json": {
       "model_id": "65f1279ceb1c49a7bbd1af4e75ec76fe",
       "version_major": 2,
       "version_minor": 0
      },
      "text/plain": [
       "HBox(children=(FloatProgress(value=0.0, max=512.0), HTML(value='')))"
      ]
     },
     "metadata": {},
     "output_type": "display_data"
    },
    {
     "name": "stdout",
     "output_type": "stream",
     "text": [
      "\n"
     ]
    },
    {
     "data": {
      "application/vnd.jupyter.widget-view+json": {
       "model_id": "679a1842e90a412590b742bfe53d72ad",
       "version_major": 2,
       "version_minor": 0
      },
      "text/plain": [
       "HBox(children=(FloatProgress(value=0.0, max=512.0), HTML(value='')))"
      ]
     },
     "metadata": {},
     "output_type": "display_data"
    },
    {
     "name": "stdout",
     "output_type": "stream",
     "text": [
      "\n"
     ]
    },
    {
     "data": {
      "application/vnd.jupyter.widget-view+json": {
       "model_id": "a64a209c408a472c986bd689310e14c0",
       "version_major": 2,
       "version_minor": 0
      },
      "text/plain": [
       "HBox(children=(FloatProgress(value=0.0, max=512.0), HTML(value='')))"
      ]
     },
     "metadata": {},
     "output_type": "display_data"
    },
    {
     "name": "stdout",
     "output_type": "stream",
     "text": [
      "\n"
     ]
    },
    {
     "data": {
      "application/vnd.jupyter.widget-view+json": {
       "model_id": "c232069f4b4240bc8c184a7a42936d75",
       "version_major": 2,
       "version_minor": 0
      },
      "text/plain": [
       "HBox(children=(FloatProgress(value=0.0, max=512.0), HTML(value='')))"
      ]
     },
     "metadata": {},
     "output_type": "display_data"
    },
    {
     "name": "stdout",
     "output_type": "stream",
     "text": [
      "\n"
     ]
    },
    {
     "data": {
      "application/vnd.jupyter.widget-view+json": {
       "model_id": "706369f2391d4777b5e3699071810138",
       "version_major": 2,
       "version_minor": 0
      },
      "text/plain": [
       "HBox(children=(FloatProgress(value=0.0, max=512.0), HTML(value='')))"
      ]
     },
     "metadata": {},
     "output_type": "display_data"
    },
    {
     "name": "stdout",
     "output_type": "stream",
     "text": [
      "\n"
     ]
    },
    {
     "data": {
      "application/vnd.jupyter.widget-view+json": {
       "model_id": "685bc81e8e374bd1a8752194f65c6b01",
       "version_major": 2,
       "version_minor": 0
      },
      "text/plain": [
       "HBox(children=(FloatProgress(value=0.0, max=512.0), HTML(value='')))"
      ]
     },
     "metadata": {},
     "output_type": "display_data"
    },
    {
     "name": "stdout",
     "output_type": "stream",
     "text": [
      "\n"
     ]
    },
    {
     "data": {
      "application/vnd.jupyter.widget-view+json": {
       "model_id": "447a21842a854704abe64aa42a82f894",
       "version_major": 2,
       "version_minor": 0
      },
      "text/plain": [
       "HBox(children=(FloatProgress(value=0.0, max=512.0), HTML(value='')))"
      ]
     },
     "metadata": {},
     "output_type": "display_data"
    },
    {
     "name": "stdout",
     "output_type": "stream",
     "text": [
      "\n"
     ]
    },
    {
     "data": {
      "application/vnd.jupyter.widget-view+json": {
       "model_id": "c4c4b458176940aaa17da20ee06b6431",
       "version_major": 2,
       "version_minor": 0
      },
      "text/plain": [
       "HBox(children=(FloatProgress(value=0.0, max=512.0), HTML(value='')))"
      ]
     },
     "metadata": {},
     "output_type": "display_data"
    },
    {
     "name": "stdout",
     "output_type": "stream",
     "text": [
      "\n"
     ]
    },
    {
     "data": {
      "application/vnd.jupyter.widget-view+json": {
       "model_id": "f0d6c6632e1842388e795c3e2204e681",
       "version_major": 2,
       "version_minor": 0
      },
      "text/plain": [
       "HBox(children=(FloatProgress(value=0.0, max=512.0), HTML(value='')))"
      ]
     },
     "metadata": {},
     "output_type": "display_data"
    },
    {
     "name": "stdout",
     "output_type": "stream",
     "text": [
      "\n"
     ]
    },
    {
     "data": {
      "application/vnd.jupyter.widget-view+json": {
       "model_id": "f347f4a780124d8fb1ba2904c7e89bc4",
       "version_major": 2,
       "version_minor": 0
      },
      "text/plain": [
       "HBox(children=(FloatProgress(value=0.0, max=512.0), HTML(value='')))"
      ]
     },
     "metadata": {},
     "output_type": "display_data"
    },
    {
     "name": "stdout",
     "output_type": "stream",
     "text": [
      "\n"
     ]
    },
    {
     "data": {
      "application/vnd.jupyter.widget-view+json": {
       "model_id": "658c086bf5c749f79a7ea8705aeec8ad",
       "version_major": 2,
       "version_minor": 0
      },
      "text/plain": [
       "HBox(children=(FloatProgress(value=0.0, max=512.0), HTML(value='')))"
      ]
     },
     "metadata": {},
     "output_type": "display_data"
    },
    {
     "name": "stdout",
     "output_type": "stream",
     "text": [
      "\n"
     ]
    },
    {
     "data": {
      "application/vnd.jupyter.widget-view+json": {
       "model_id": "c51c1e86cf5046e68b919bb22c3cfe49",
       "version_major": 2,
       "version_minor": 0
      },
      "text/plain": [
       "HBox(children=(FloatProgress(value=0.0, max=512.0), HTML(value='')))"
      ]
     },
     "metadata": {},
     "output_type": "display_data"
    },
    {
     "name": "stdout",
     "output_type": "stream",
     "text": [
      "\n"
     ]
    },
    {
     "data": {
      "application/vnd.jupyter.widget-view+json": {
       "model_id": "4c62221404ff42ce873a15c42b6938bc",
       "version_major": 2,
       "version_minor": 0
      },
      "text/plain": [
       "HBox(children=(FloatProgress(value=0.0, max=512.0), HTML(value='')))"
      ]
     },
     "metadata": {},
     "output_type": "display_data"
    },
    {
     "name": "stdout",
     "output_type": "stream",
     "text": [
      "\n"
     ]
    },
    {
     "data": {
      "application/vnd.jupyter.widget-view+json": {
       "model_id": "190ab7e279cb49368ae9d0e6e455852b",
       "version_major": 2,
       "version_minor": 0
      },
      "text/plain": [
       "HBox(children=(FloatProgress(value=0.0, max=512.0), HTML(value='')))"
      ]
     },
     "metadata": {},
     "output_type": "display_data"
    },
    {
     "name": "stdout",
     "output_type": "stream",
     "text": [
      "\n"
     ]
    },
    {
     "data": {
      "application/vnd.jupyter.widget-view+json": {
       "model_id": "cdcb10fae1984be896daf15339f4b7c0",
       "version_major": 2,
       "version_minor": 0
      },
      "text/plain": [
       "HBox(children=(FloatProgress(value=0.0, max=512.0), HTML(value='')))"
      ]
     },
     "metadata": {},
     "output_type": "display_data"
    },
    {
     "name": "stdout",
     "output_type": "stream",
     "text": [
      "\n"
     ]
    },
    {
     "data": {
      "application/vnd.jupyter.widget-view+json": {
       "model_id": "6129d7f994e74e63b16e347e5b37d5b6",
       "version_major": 2,
       "version_minor": 0
      },
      "text/plain": [
       "HBox(children=(FloatProgress(value=0.0, max=512.0), HTML(value='')))"
      ]
     },
     "metadata": {},
     "output_type": "display_data"
    },
    {
     "name": "stdout",
     "output_type": "stream",
     "text": [
      "\n"
     ]
    },
    {
     "data": {
      "application/vnd.jupyter.widget-view+json": {
       "model_id": "3b309cf559724f9abb6b2040a30bfc6d",
       "version_major": 2,
       "version_minor": 0
      },
      "text/plain": [
       "HBox(children=(FloatProgress(value=0.0, max=512.0), HTML(value='')))"
      ]
     },
     "metadata": {},
     "output_type": "display_data"
    },
    {
     "name": "stdout",
     "output_type": "stream",
     "text": [
      "\n",
      "\n",
      "D:/Users/ben/Dropbox/aiart/vidout/vidout20200916-164703.mp4\n"
     ]
    }
   ],
   "source": [
    "imagesize = 512\n",
    "zoom(imagesize,(-1.0, 1.0),(-2.0, 2.0),figzoom.layout.xaxis.range, figzoom.layout.yaxis.range, 30)"
   ]
  },
  {
   "cell_type": "markdown",
   "metadata": {},
   "source": [
    "# Multiprocessing "
   ]
  },
  {
   "cell_type": "code",
   "execution_count": 5,
   "metadata": {},
   "outputs": [],
   "source": [
    "import multiprocess\n",
    "import numpy as np\n",
    "from multiprocess import Array, Pool\n",
    "from multiprocess import sharedctypes\n",
    "import itertools\n",
    "\n",
    "\n",
    "def MandelbrotMP(arg):\n",
    "    px,py,power,shift, Yrange,Xrange,imagesize,max_it = arg\n",
    "    zy = (py * (Yrange[1] - Yrange[0]) / (imagesize))  + Yrange[0]\n",
    "    zx = (px * (Xrange[1] - Xrange[0]) / (imagesize))  + Xrange[0]\n",
    "    z = zx + zy * 1j\n",
    "    c = z\n",
    "    for i in range(max_it):\n",
    "        if abs(z) > 2.0:\n",
    "            return i\n",
    "\n",
    "        z = z ** power + c +shift\n",
    "    return i"
   ]
  },
  {
   "cell_type": "code",
   "execution_count": 12,
   "metadata": {},
   "outputs": [
    {
     "data": {
      "application/vnd.jupyter.widget-view+json": {
       "model_id": "c295542a23c1479d833f3a86a3040470",
       "version_major": 2,
       "version_minor": 0
      },
      "text/plain": [
       "HBox(children=(FloatProgress(value=0.0, max=2000.0), HTML(value='')))"
      ]
     },
     "metadata": {},
     "output_type": "display_data"
    },
    {
     "name": "stdout",
     "output_type": "stream",
     "text": [
      "\n"
     ]
    },
    {
     "data": {
      "application/vnd.jupyter.widget-view+json": {
       "model_id": "df991fdc99bd4c9d99c968b7a2324382",
       "version_major": 2,
       "version_minor": 0
      },
      "text/plain": [
       "FigureWidget({\n",
       "    'data': [{'colorscale': [[0.0, '#000000'], [0.0625, '#001f4d'], [0.125,\n",
       "                   …"
      ]
     },
     "metadata": {},
     "output_type": "display_data"
    }
   ],
   "source": [
    "# get zoom from last plot or start at ((-1,-2), (1,2)) if figure doesn't exist\n",
    "if \"figzoomMP\" in globals():\n",
    "    Xrange=figzoomMP.layout.xaxis.range \n",
    "    Yrange=figzoomMP.layout.yaxis.range \n",
    "    \n",
    "else:\n",
    "    Xrange = (-1.0, 1.0)\n",
    "    Yrange = (-2, 2.0)\n",
    "    \n",
    "# set the size of the array/image and interation depth\n",
    "imagesize = 2000\n",
    "max_it =256\n",
    "\n",
    "array = numpy.zeros(shape=(imagesize,imagesize))\n",
    "p = Pool(5)\n",
    "for j in tqdm.tqdm(range(imagesize)):\n",
    "        arguments = zip(list(range(imagesize)), \n",
    "                itertools.repeat(j), \n",
    "                itertools.repeat(power),\n",
    "                itertools.repeat(shift) , \n",
    "                itertools.repeat(Xrange) ,\n",
    "                 itertools.repeat(Yrange),\n",
    "                 itertools.repeat(imagesize),\n",
    "                 itertools.repeat(256))\n",
    "        \n",
    "        res = p.map(MandelbrotMP, arguments)\n",
    "        array[:,j] = res\n",
    "        \n",
    "figzoomMP = go.FigureWidget(data = \n",
    "                go.Heatmap(\n",
    "                    z=array, \n",
    "                    zsmooth='best',\n",
    "                    showscale=False,\n",
    "                    colorscale='icefire',\n",
    "                    x0=Xrange[0], dx=(Xrange[1] - Xrange[0]) / (imagesize),\n",
    "                    y0=Yrange[0], dy=(Yrange[1] - Yrange[0]) / (imagesize),\n",
    "                ),\n",
    "                      layout =\n",
    "                go.Layout( autosize=False, width=1080, height=1080, \n",
    "                    yaxis={'visible': False, 'showticklabels': False},\n",
    "                    xaxis={'visible': False, 'showticklabels': False},\n",
    "                    margin=dict(l=0, r=0, b=0,t=0,pad=1))\n",
    "               )\n",
    "figzoomMP"
   ]
  },
  {
   "cell_type": "code",
   "execution_count": null,
   "metadata": {},
   "outputs": [],
   "source": [
    "MP:\n",
    "4000/4000 [04:00<00:00, 16.64it/s]\n",
    "2000/2000 [01:08<00:00, 29.30it/s]\n",
    "2000/2000 [01:10<00:00, 28.28it/s]\n",
    "2000/2000 [01:27<00:00, 22.74it/s]\n",
    "2000/2000 [01:12<00:00, 27.65it/s]\n",
    "1080/1080 [00:27<00:00, 38.90it/s]\n",
    "1000/1000 [00:21<00:00, 45.72it/s]\n",
    "1000/1000 [00:22<00:00, 44.94it/s]\n",
    "\n",
    "MP pool(1):\n",
    "2000/2000 [01:27<00:00, 22.94it/s]\n",
    "\n",
    "MP pool(4):\n",
    "2000/2000 [01:23<00:00, 24.06it/s]\n",
    "\n",
    "MP pool(5):\n",
    "2000/2000 [01:10<00:00, 28.32it/s]"
   ]
  }
 ],
 "metadata": {
  "kernelspec": {
   "display_name": "Python 3",
   "language": "python",
   "name": "python3"
  },
  "language_info": {
   "codemirror_mode": {
    "name": "ipython",
    "version": 3
   },
   "file_extension": ".py",
   "mimetype": "text/x-python",
   "name": "python",
   "nbconvert_exporter": "python",
   "pygments_lexer": "ipython3",
   "version": "3.6.10"
  }
 },
 "nbformat": 4,
 "nbformat_minor": 4
}
