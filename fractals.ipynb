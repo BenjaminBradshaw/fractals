{
 "cells": [
  {
   "cell_type": "markdown",
   "metadata": {},
   "source": [
    "# Fractal exploration with Plotly"
   ]
  },
  {
   "cell_type": "code",
   "execution_count": 1,
   "metadata": {},
   "outputs": [],
   "source": [
    "%%capture\n",
    "from tqdm import notebook as tqdm\n",
    "tqdm.tqdm()\n",
    "\n",
    "import time\n",
    "import datetime\n",
    "\n",
    "import ipywidgets as widgets\n",
    "from ipywidgets import interact, interactive, fixed, interact_manual\n",
    "\n",
    "import plotly.express as px\n",
    "import plotly.graph_objects as go\n",
    "\n",
    "import numpy\n",
    "import pandas as pd\n",
    "import math"
   ]
  },
  {
   "cell_type": "markdown",
   "metadata": {},
   "source": [
    "# Burning Ship and  Mandelbrot Skews"
   ]
  },
  {
   "cell_type": "code",
   "execution_count": 43,
   "metadata": {},
   "outputs": [],
   "source": [
    "def BuringShip(x,y,power,shift, Yrange,Xrange): \n",
    "    zy = y * (Yrange[1] - Yrange[0]) / (imagesize - 1)  + Yrange[0]\n",
    "    zx = x * (Xrange[1] - Xrange[0]) / (imagesize - 1)  + Xrange[0] \n",
    "    z = zx + zy * 1j\n",
    "    c = z \n",
    "    for i in range(max_it):\n",
    "        if abs(z) > 2.0:\n",
    "            return exterior(z,i)\n",
    "\n",
    "        z = (abs(z.real) + abs(z.imag)* 1j) ** power + c +shift\n",
    "    return interior(z,i)\n",
    "\n",
    "\n",
    "def MandelbrotSkew(px,py,power,shift, Yrange,Xrange): \n",
    "    zy = (py * (Yrange[1] - Yrange[0]) / (imagesize))  + Yrange[0]\n",
    "    zx = (px * (Xrange[1] - Xrange[0]) / (imagesize))  + Xrange[0]\n",
    "    z = zx + zy * 1j\n",
    "    c = z\n",
    "    for i in range(max_it):\n",
    "        if abs(z) > 2.0:\n",
    "            return exterior(z,i)\n",
    "        z = z ** power + c +shift\n",
    "    return interior(z,i)\n",
    "\n",
    "fractals = [BuringShip, MandelbrotSkew]\n",
    "\n",
    "\n",
    "def interior(z,i): \n",
    "    return i\n",
    "    \n",
    "def exterior(z,i):\n",
    "    return i\n",
    "\n",
    "def iteration_count(z,i):\n",
    "    return i\n",
    "\n",
    "def orbit_distance(z,i):\n",
    "    return abs(z)\n",
    "\n",
    "def orbit_distance100x(z,i):\n",
    "    return abs(z)*100\n",
    "\n",
    "def orbit_distance_log(z,i):\n",
    "    try:\n",
    "        return math.log(abs(z))\n",
    "    except:\n",
    "         return math.log(abs(z)+1)\n",
    "\n",
    "def orbit_distance_sinh(z,i):\n",
    "    return math.sinh(abs(z))\n",
    "        \n",
    "maps = [iteration_count, orbit_distance, orbit_distance100x, orbit_distance_log, orbit_distance_sinh ]"
   ]
  },
  {
   "cell_type": "code",
   "execution_count": 44,
   "metadata": {},
   "outputs": [
    {
     "data": {
      "application/vnd.jupyter.widget-view+json": {
       "model_id": "4dbdf28e59a24eaa9ec86300da6f5d8a",
       "version_major": 2,
       "version_minor": 0
      },
      "text/plain": [
       "interactive(children=(Dropdown(description='fractal', options=(<function BuringShip at 0x000001FC920E18C8>, <f…"
      ]
     },
     "metadata": {},
     "output_type": "display_data"
    },
    {
     "data": {
      "application/vnd.jupyter.widget-view+json": {
       "model_id": "2b60b19738b84ed886726de3960acd90",
       "version_major": 2,
       "version_minor": 0
      },
      "text/plain": [
       "interactive(children=(FloatSlider(value=2.0, description='Power', max=6.0, min=-2.0), Output()), _dom_classes=…"
      ]
     },
     "metadata": {},
     "output_type": "display_data"
    },
    {
     "data": {
      "application/vnd.jupyter.widget-view+json": {
       "model_id": "4bbcfb2ceab3470f80cc0f88666829f7",
       "version_major": 2,
       "version_minor": 0
      },
      "text/plain": [
       "interactive(children=(FloatSlider(value=0.0, description='Shift', max=1.0), Output()), _dom_classes=('widget-i…"
      ]
     },
     "metadata": {},
     "output_type": "display_data"
    },
    {
     "data": {
      "application/vnd.jupyter.widget-view+json": {
       "model_id": "7f57483eecc941048a76b42deace4c21",
       "version_major": 2,
       "version_minor": 0
      },
      "text/plain": [
       "interactive(children=(Dropdown(description='Interior', options=(<function iteration_count at 0x000001FCA07B9C8…"
      ]
     },
     "metadata": {},
     "output_type": "display_data"
    },
    {
     "data": {
      "application/vnd.jupyter.widget-view+json": {
       "model_id": "27b79bef31134fe1b7a0da80d4ec00ee",
       "version_major": 2,
       "version_minor": 0
      },
      "text/plain": [
       "interactive(children=(Dropdown(description='Exterior', options=(<function iteration_count at 0x000001FCA07B9C8…"
      ]
     },
     "metadata": {},
     "output_type": "display_data"
    }
   ],
   "source": [
    "def browse_fractals(fractals):\n",
    "    def fractalpick(fractal):\n",
    "\n",
    "        global Frac\n",
    "        Frac = fractal\n",
    "        return print(fractal.__name__)\n",
    "    fractal =  interact(fractalpick, fractal=fractals)\n",
    "\n",
    "# pick fractal    \n",
    "browse_fractals(fractals)\n",
    "\n",
    "\n",
    "def powerset(Power):\n",
    "    global power\n",
    "    power=Power\n",
    "    return\n",
    "    \n",
    "def shiftset(Shift):\n",
    "    global shift\n",
    "    shift=Shift\n",
    "    return\n",
    "\n",
    "def exteriorset(Exterior):\n",
    "    global exterior\n",
    "    exterior=Exterior\n",
    "\n",
    "def interiorset(Interior):\n",
    "    global interior\n",
    "    interior=Interior\n",
    "    \n",
    "    \n",
    "# pick fractal parameters \n",
    "interact(powerset, Power=2.0, description=\"Power\");\n",
    "interact(shiftset, Shift=0.0, description=\"shift\");\n",
    "\n",
    "interact(interiorset, Interior=maps);\n",
    "interact(exteriorset, Exterior=maps);"
   ]
  },
  {
   "cell_type": "markdown",
   "metadata": {},
   "source": [
    "# Display"
   ]
  },
  {
   "cell_type": "code",
   "execution_count": 134,
   "metadata": {},
   "outputs": [
    {
     "data": {
      "application/vnd.jupyter.widget-view+json": {
       "model_id": "55431b0a1a4d4e53a30fe95fa79b040a",
       "version_major": 2,
       "version_minor": 0
      },
      "text/plain": [
       "HBox(children=(FloatProgress(value=0.0, max=1080.0), HTML(value='')))"
      ]
     },
     "metadata": {},
     "output_type": "display_data"
    },
    {
     "name": "stdout",
     "output_type": "stream",
     "text": [
      "\n"
     ]
    },
    {
     "data": {
      "application/vnd.jupyter.widget-view+json": {
       "model_id": "e6edb0bfae6042a0a06a39c99e569345",
       "version_major": 2,
       "version_minor": 0
      },
      "text/plain": [
       "FigureWidget({\n",
       "    'data': [{'colorscale': [[0.0, '#000000'], [0.0625, '#001f4d'], [0.125,\n",
       "                   …"
      ]
     },
     "metadata": {},
     "output_type": "display_data"
    }
   ],
   "source": [
    "# get zoom from last plot or start at ((-1,-2), (1,2)) if figure doesn't exist\n",
    "if \"figzoom\" in globals():\n",
    "    Xrange=figzoom.layout.xaxis.range \n",
    "    Yrange=figzoom.layout.yaxis.range \n",
    "else:\n",
    "    Xrange = (-1.0, 1.0)\n",
    "    Yrange = (-2, 2.0)\n",
    "    \n",
    "# set the size of the array/image and interation depth\n",
    "imagesize = 1080\n",
    "max_it =256\n",
    "array = numpy.zeros(shape=(imagesize,imagesize)) \n",
    "\n",
    "\n",
    "for i in tqdm.tqdm(range(imagesize)):\n",
    "    for j in range(imagesize):\n",
    "        array[i,j] = Frac(i, j, power, shift ,Xrange ,Yrange) \n",
    "\n",
    "figzoom = go.FigureWidget(data = \n",
    "                go.Heatmap(\n",
    "                    z=array, \n",
    "                    zsmooth='best',\n",
    "                    showscale=False,\n",
    "                    colorscale='icefire',\n",
    "                    x0=Xrange[0], dx=(Xrange[1] - Xrange[0]) / (imagesize),\n",
    "                    y0=Yrange[0], dy=(Yrange[1] - Yrange[0]) / (imagesize),\n",
    "                ),\n",
    "                      layout =\n",
    "                go.Layout( autosize=False, width=1080, height=1080, \n",
    "                    yaxis={'visible': False, 'showticklabels': False},\n",
    "                    xaxis={'visible': False, 'showticklabels': False},\n",
    "                    margin=dict(l=0, r=0, b=0,t=0,pad=1))\n",
    "               )\n",
    "figzoom\n"
   ]
  },
  {
   "cell_type": "code",
   "execution_count": 105,
   "metadata": {},
   "outputs": [],
   "source": [
    "#reset zoom\n",
    "del figzoom"
   ]
  },
  {
   "cell_type": "markdown",
   "metadata": {},
   "source": [
    "## Export as html"
   ]
  },
  {
   "cell_type": "code",
   "execution_count": 44,
   "metadata": {},
   "outputs": [],
   "source": [
    "figzoom.write_html(\"Mandelbrot_orbit_distance.html\")"
   ]
  },
  {
   "cell_type": "markdown",
   "metadata": {},
   "source": [
    "## Save as image"
   ]
  },
  {
   "cell_type": "code",
   "execution_count": 99,
   "metadata": {},
   "outputs": [],
   "source": [
    "# image naming function\n",
    "def name_image(fig):\n",
    "\n",
    "    namestring = Frac.__name__\n",
    "    namestring += \"^\" +str(power)\n",
    "    namestring += \"+\" +str(shift)\n",
    "\n",
    "    xmin,xmax =figzoom.layout.xaxis.range\n",
    "    ymin,ymax =figzoom.layout.yaxis.range\n",
    "    namestring +=\"({:.4f},{:.4f}),({:.4f},{:.4f})\".format(xmin,xmax,ymin,ymax)\n",
    "    namestring += exterior.__name__\n",
    "    namestring += interior.__name__\n",
    "    \n",
    "    return namestring"
   ]
  },
  {
   "cell_type": "code",
   "execution_count": 100,
   "metadata": {},
   "outputs": [],
   "source": [
    "now = str(datetime.datetime.now().strftime(\"%Y%m%d-%H%M%S\"))\n",
    "figzoom.write_image(name_image(figzoom)+ now +\".jpeg\")"
   ]
  },
  {
   "cell_type": "markdown",
   "metadata": {},
   "source": [
    "## Save as high res image"
   ]
  },
  {
   "cell_type": "code",
   "execution_count": 135,
   "metadata": {},
   "outputs": [
    {
     "data": {
      "application/vnd.jupyter.widget-view+json": {
       "model_id": "2ddaa5983e86417b8c1a1ae2d60f2ad9",
       "version_major": 2,
       "version_minor": 0
      },
      "text/plain": [
       "HBox(children=(FloatProgress(value=0.0, max=2160.0), HTML(value='')))"
      ]
     },
     "metadata": {},
     "output_type": "display_data"
    },
    {
     "name": "stdout",
     "output_type": "stream",
     "text": [
      "\n"
     ]
    }
   ],
   "source": [
    "#Hi rez image\n",
    "Xrange=figzoom.layout.xaxis.range \n",
    "Yrange=figzoom.layout.yaxis.range\n",
    "# set the size of the array/image and interation depth\n",
    "imagesize = 2160\n",
    "max_it =256\n",
    "array = numpy.zeros(shape=(imagesize,imagesize)) \n",
    "\n",
    "\n",
    "for i in tqdm.tqdm(range(imagesize)):\n",
    "    for j in range(imagesize):\n",
    "        array[i,j] = Frac(i, j, power, shift, Xrange, Yrange)\n",
    "\n",
    "Hires = go.FigureWidget(data = \n",
    "                go.Heatmap(\n",
    "                    z=array, \n",
    "                    zsmooth='best',\n",
    "                    showscale=False,\n",
    "                    colorscale='icefire',\n",
    "                    x0=Xrange[0], dx=(Xrange[1] - Xrange[0]) / (imagesize),\n",
    "                    y0=Yrange[0], dy=(Yrange[1] - Yrange[0]) / (imagesize),\n",
    "                ),\n",
    "                      layout =\n",
    "                go.Layout( autosize=False, width= 2160, height= 2160, \n",
    "                    yaxis={'visible': False, 'showticklabels': False},\n",
    "                    xaxis={'visible': False, 'showticklabels': False},\n",
    "                    margin=dict(l=0, r=0, b=0,t=0,pad=1))\n",
    "               )\n",
    "\n",
    "\n",
    "now = str(datetime.datetime.now().strftime(\"%Y%m%d-%H%M%S\"))\n",
    "Hires.write_image(name_image(Hires) + now + \".jpeg\")\n",
    "\n",
    "del Hires"
   ]
  },
  {
   "cell_type": "code",
   "execution_count": null,
   "metadata": {},
   "outputs": [],
   "source": []
  }
 ],
 "metadata": {
  "kernelspec": {
   "display_name": "Python 3",
   "language": "python",
   "name": "python3"
  },
  "language_info": {
   "codemirror_mode": {
    "name": "ipython",
    "version": 3
   },
   "file_extension": ".py",
   "mimetype": "text/x-python",
   "name": "python",
   "nbconvert_exporter": "python",
   "pygments_lexer": "ipython3",
   "version": "3.6.10"
  }
 },
 "nbformat": 4,
 "nbformat_minor": 4
}
